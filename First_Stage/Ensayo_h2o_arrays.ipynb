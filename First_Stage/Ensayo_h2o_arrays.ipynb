{
 "cells": [
  {
   "cell_type": "markdown",
   "id": "0aeb9f04-e88c-4905-9b24-05f424d74592",
   "metadata": {},
   "source": [
    "### H2O"
   ]
  },
  {
   "cell_type": "code",
   "execution_count": 1,
   "id": "728a4740-2ebd-4e79-aa88-86631baeb75f",
   "metadata": {},
   "outputs": [],
   "source": [
    "import h2o\n",
    "import numpy as np\n",
    "from h2o.estimators.deeplearning import H2ODeepLearningEstimator"
   ]
  },
  {
   "cell_type": "code",
   "execution_count": 2,
   "id": "4ca19fcf-438b-41a9-955d-5eb0a27feb99",
   "metadata": {},
   "outputs": [
    {
     "name": "stdout",
     "output_type": "stream",
     "text": [
      "Checking whether there is an H2O instance running at http://localhost:54321..... not found.\n",
      "Attempting to start a local H2O server...\n",
      "; Java HotSpot(TM) 64-Bit Server VM (build 21.0.1+12-LTS-29, mixed mode, sharing)\n",
      "  Starting server from C:\\Users\\Daniel\\AppData\\Local\\Programs\\Python\\Python38\\Lib\\site-packages\\h2o\\backend\\bin\\h2o.jar\n",
      "  Ice root: C:\\Users\\Daniel\\AppData\\Local\\Temp\\tmpfywx2xjx\n",
      "  JVM stdout: C:\\Users\\Daniel\\AppData\\Local\\Temp\\tmpfywx2xjx\\h2o_Daniel_started_from_python.out\n",
      "  JVM stderr: C:\\Users\\Daniel\\AppData\\Local\\Temp\\tmpfywx2xjx\\h2o_Daniel_started_from_python.err\n",
      "  Server is running at http://127.0.0.1:54321\n",
      "Connecting to H2O server at http://127.0.0.1:54321 ... successful.\n"
     ]
    },
    {
     "data": {
      "text/html": [
       "\n",
       "<style>\n",
       "\n",
       "#h2o-table-1.h2o-container {\n",
       "  overflow-x: auto;\n",
       "}\n",
       "#h2o-table-1 .h2o-table {\n",
       "  /* width: 100%; */\n",
       "  margin-top: 1em;\n",
       "  margin-bottom: 1em;\n",
       "}\n",
       "#h2o-table-1 .h2o-table caption {\n",
       "  white-space: nowrap;\n",
       "  caption-side: top;\n",
       "  text-align: left;\n",
       "  /* margin-left: 1em; */\n",
       "  margin: 0;\n",
       "  font-size: larger;\n",
       "}\n",
       "#h2o-table-1 .h2o-table thead {\n",
       "  white-space: nowrap; \n",
       "  position: sticky;\n",
       "  top: 0;\n",
       "  box-shadow: 0 -1px inset;\n",
       "}\n",
       "#h2o-table-1 .h2o-table tbody {\n",
       "  overflow: auto;\n",
       "}\n",
       "#h2o-table-1 .h2o-table th,\n",
       "#h2o-table-1 .h2o-table td {\n",
       "  text-align: right;\n",
       "  /* border: 1px solid; */\n",
       "}\n",
       "#h2o-table-1 .h2o-table tr:nth-child(even) {\n",
       "  /* background: #F5F5F5 */\n",
       "}\n",
       "\n",
       "</style>      \n",
       "<div id=\"h2o-table-1\" class=\"h2o-container\">\n",
       "  <table class=\"h2o-table\">\n",
       "    <caption></caption>\n",
       "    <thead></thead>\n",
       "    <tbody><tr><td>H2O_cluster_uptime:</td>\n",
       "<td>01 secs</td></tr>\n",
       "<tr><td>H2O_cluster_timezone:</td>\n",
       "<td>America/Bogota</td></tr>\n",
       "<tr><td>H2O_data_parsing_timezone:</td>\n",
       "<td>UTC</td></tr>\n",
       "<tr><td>H2O_cluster_version:</td>\n",
       "<td>3.44.0.2</td></tr>\n",
       "<tr><td>H2O_cluster_version_age:</td>\n",
       "<td>2 months and 16 days</td></tr>\n",
       "<tr><td>H2O_cluster_name:</td>\n",
       "<td>H2O_from_python_Daniel_inu7uz</td></tr>\n",
       "<tr><td>H2O_cluster_total_nodes:</td>\n",
       "<td>1</td></tr>\n",
       "<tr><td>H2O_cluster_free_memory:</td>\n",
       "<td>7.828 Gb</td></tr>\n",
       "<tr><td>H2O_cluster_total_cores:</td>\n",
       "<td>16</td></tr>\n",
       "<tr><td>H2O_cluster_allowed_cores:</td>\n",
       "<td>16</td></tr>\n",
       "<tr><td>H2O_cluster_status:</td>\n",
       "<td>locked, healthy</td></tr>\n",
       "<tr><td>H2O_connection_url:</td>\n",
       "<td>http://127.0.0.1:54321</td></tr>\n",
       "<tr><td>H2O_connection_proxy:</td>\n",
       "<td>{\"http\": null, \"https\": null}</td></tr>\n",
       "<tr><td>H2O_internal_security:</td>\n",
       "<td>False</td></tr>\n",
       "<tr><td>Python_version:</td>\n",
       "<td>3.8.2 final</td></tr></tbody>\n",
       "  </table>\n",
       "</div>\n"
      ],
      "text/plain": [
       "--------------------------  -----------------------------\n",
       "H2O_cluster_uptime:         01 secs\n",
       "H2O_cluster_timezone:       America/Bogota\n",
       "H2O_data_parsing_timezone:  UTC\n",
       "H2O_cluster_version:        3.44.0.2\n",
       "H2O_cluster_version_age:    2 months and 16 days\n",
       "H2O_cluster_name:           H2O_from_python_Daniel_inu7uz\n",
       "H2O_cluster_total_nodes:    1\n",
       "H2O_cluster_free_memory:    7.828 Gb\n",
       "H2O_cluster_total_cores:    16\n",
       "H2O_cluster_allowed_cores:  16\n",
       "H2O_cluster_status:         locked, healthy\n",
       "H2O_connection_url:         http://127.0.0.1:54321\n",
       "H2O_connection_proxy:       {\"http\": null, \"https\": null}\n",
       "H2O_internal_security:      False\n",
       "Python_version:             3.8.2 final\n",
       "--------------------------  -----------------------------"
      ]
     },
     "metadata": {},
     "output_type": "display_data"
    }
   ],
   "source": [
    "# Inicializa el cluster de H2O y mostrar info del cluster en uso\n",
    "h2o.init()"
   ]
  },
  {
   "cell_type": "markdown",
   "id": "7ca6576f-a981-4753-90e5-2a87acf3c371",
   "metadata": {},
   "source": [
    "### Ahora, al igual que se hacia en SAM, cargaremos los datos de los espectros"
   ]
  },
  {
   "cell_type": "code",
   "execution_count": 3,
   "id": "2998d690-f2fa-4630-8bb3-0caf43fed790",
   "metadata": {},
   "outputs": [],
   "source": [
    "import numpy as np\n",
    "from tensorflow.keras.models import Sequential\n",
    "from tensorflow.keras.layers import Conv1D, MaxPooling1D, Flatten, Dense\n",
    "from sklearn.model_selection import train_test_split\n",
    "from sklearn.preprocessing import LabelEncoder\n",
    "from tensorflow.keras.utils import to_categorical\n",
    "import matplotlib.pyplot as plt\n",
    "from keras.layers import Dropout\n",
    "from keras.layers import BatchNormalization\n",
    "\n",
    "\n",
    "\n",
    "import requests\n",
    "from bs4 import BeautifulSoup\n",
    "import os\n",
    "from astropy.io import fits\n",
    "import pandas as pd\n",
    "import matplotlib.pyplot as plt\n",
    "from astropy.table import Table\n",
    "from tqdm import tqdm\n",
    "import time\n",
    "\n",
    "\n",
    "from sklearn.metrics import confusion_matrix\n",
    "import seaborn as sns"
   ]
  },
  {
   "cell_type": "code",
   "execution_count": 4,
   "id": "56ecd575-2f08-44bd-aec4-3e1b4b1f2fbd",
   "metadata": {},
   "outputs": [
    {
     "name": "stdout",
     "output_type": "stream",
     "text": [
      "Filename: DataDESI_691_752.fits\n",
      "No.    Name      Ver    Type      Cards   Dimensions   Format\n",
      "  0  PRIMARY       1 PrimaryHDU       4   ()      \n",
      "  1                1 BinTableHDU     26   89878R x 9C   [7A, D, D, 7A, D, 21A, D, D, 7A]   \n",
      "  2  B_FLUX        1 ImageHDU         8   (2751, 89878)   float32   \n",
      "  3  R_FLUX        1 ImageHDU         8   (2326, 89878)   float32   \n",
      "  4  Z_FLUX        1 ImageHDU         8   (2881, 89878)   float32   \n",
      "Filename: B_R_Z_wavelenght.fits\n",
      "No.    Name      Ver    Type      Cards   Dimensions   Format\n",
      "  0  PRIMARY       1 PrimaryHDU       4   ()      \n",
      "  1  B_WAVELENGHT    1 ImageHDU         7   (2751,)   float64   \n",
      "  2  R_WAVELENGHT    1 ImageHDU         7   (2326,)   float64   \n",
      "  3  Z_WAVELENGHT    1 ImageHDU         7   (2881,)   float64   \n"
     ]
    }
   ],
   "source": [
    "espc = fits.open('DataDESI_691_752.fits') #open file\n",
    "wave= fits.open('B_R_Z_wavelenght.fits')\n",
    "espc.info() #resume el contenido de la tabla\n",
    "wave.info()"
   ]
  },
  {
   "cell_type": "code",
   "execution_count": 5,
   "id": "52c1aa95-3843-409e-9ba0-55356a8d3492",
   "metadata": {},
   "outputs": [],
   "source": [
    "flux_b=espc[2].data\n",
    "flux_r=espc[3].data\n",
    "flux_z=espc[4].data\n",
    "\n",
    "Spectra=np.hstack((flux_b, flux_r, flux_z)) #Contiene la cadena completa de flujo B+Z+R para cada espectro\n",
    "#Spectra=Spectra.reshape(Spectra.shape[0], Spectra.shape[1], 1)"
   ]
  },
  {
   "cell_type": "code",
   "execution_count": 6,
   "id": "aed32ab8-3236-44cf-8ed0-c28be5d0baf9",
   "metadata": {},
   "outputs": [
    {
     "data": {
      "text/plain": [
       "array([[-44.954617  , -17.544868  ,   5.971389  , ...,   6.8704705 ,\n",
       "          7.178707  ,   5.4901958 ],\n",
       "       [ -5.7764893 , -10.645928  ,   6.788937  , ...,   1.8684504 ,\n",
       "         -0.39677802,   2.1346123 ],\n",
       "       [-46.51395   , -12.42423   , -10.564693  , ...,   1.7962582 ,\n",
       "          2.0902228 ,   2.035537  ],\n",
       "       ...,\n",
       "       [ -3.0887322 ,   3.9484348 ,   9.715307  , ...,   1.6537042 ,\n",
       "          1.3760386 ,   2.2182627 ],\n",
       "       [ -2.642887  ,   0.72672445,   3.5981445 , ...,   0.32732147,\n",
       "          0.43141416,  -0.146458  ],\n",
       "       [-12.016526  ,   7.6717296 ,  -0.5498936 , ...,   0.18873805,\n",
       "          0.97489774,   1.4603783 ]], dtype=float32)"
      ]
     },
     "execution_count": 6,
     "metadata": {},
     "output_type": "execute_result"
    }
   ],
   "source": [
    "Spectra"
   ]
  },
  {
   "cell_type": "code",
   "execution_count": 7,
   "id": "7abb86c9-77e1-4798-9ca8-c71138158bc1",
   "metadata": {},
   "outputs": [
    {
     "data": {
      "text/html": [
       "<div><i>Table length=89878</i>\n",
       "<table id=\"table2118125353952\" class=\"table-striped table-bordered table-condensed\">\n",
       "<thead><tr><th>SPECTYPE</th><th>Z</th><th>TARGETID</th><th>OBJTYPE</th><th>Z_ERR</th><th>SUBTYPE</th><th>TARGET_RA</th><th>TARGET_DEC</th><th>MORPHTYPE</th></tr></thead>\n",
       "<thead><tr><th>str7</th><th>float64</th><th>float64</th><th>str7</th><th>float64</th><th>str21</th><th>float64</th><th>float64</th><th>str7</th></tr></thead>\n",
       "<tr><td>GALAXY</td><td>0.12304444393698347</td><td>3.963298676893649e+16</td><td>TGT</td><td>4.1065983890874034e-05</td><td>0.0</td><td>251.15602592812982</td><td>35.15999350466772</td><td>SER</td></tr>\n",
       "<tr><td>GALAXY</td><td>0.29457611574915027</td><td>3.963298676893617e+16</td><td>TGT</td><td>1.5230988695018649e-05</td><td>0.0</td><td>251.13617942652738</td><td>35.298171294155715</td><td>REX</td></tr>\n",
       "<tr><td>GALAXY</td><td>0.26295948028332505</td><td>3.963298677312854e+16</td><td>TGT</td><td>1.8882726599351002e-05</td><td>0.0</td><td>251.29263317255828</td><td>35.2563912473969</td><td>REX</td></tr>\n",
       "<tr><td>GALAXY</td><td>1.1613819989817356</td><td>6.160937390723566e+17</td><td>SKY</td><td>9.201895922269369e-05</td><td>0.0</td><td>251.18910901219022</td><td>35.19275651875039</td><td>0.0</td></tr>\n",
       "<tr><td>GALAXY</td><td>0.26355166471566344</td><td>3.963298677312746e+16</td><td>TGT</td><td>3.503667072881993e-05</td><td>0.0</td><td>251.22081435317995</td><td>35.196753502348336</td><td>EXP</td></tr>\n",
       "<tr><td>GALAXY</td><td>0.08709363315046506</td><td>3.963298677312904e+16</td><td>TGT</td><td>3.865175488516558e-06</td><td>0.0</td><td>251.32575334761174</td><td>35.28205469932947</td><td>EXP</td></tr>\n",
       "<tr><td>GALAXY</td><td>0.26495553753651446</td><td>3.9632986768936136e+16</td><td>TGT</td><td>7.675386768239847e-05</td><td>0.0</td><td>251.13412200880515</td><td>35.23854486920474</td><td>SER</td></tr>\n",
       "<tr><td>STAR</td><td>-0.00017170741474576307</td><td>3.963298676474267e+16</td><td>TGT</td><td>6.297295578494421e-06</td><td>G</td><td>250.85477816221342</td><td>35.164102405409004</td><td>PSF</td></tr>\n",
       "<tr><td>GALAXY</td><td>0.1138600133189154</td><td>3.963298676893551e+16</td><td>TGT</td><td>7.161186384705142e-05</td><td>0.0</td><td>251.09286363782294</td><td>35.15489017306431</td><td>SER</td></tr>\n",
       "<tr><td>STAR</td><td>-0.0005461945376769534</td><td>3.9632981823850696e+16</td><td>TGT</td><td>5.1880335838730204e-06</td><td>F</td><td>251.12491082094607</td><td>35.1200088112371</td><td>PSF</td></tr>\n",
       "<tr><td>...</td><td>...</td><td>...</td><td>...</td><td>...</td><td>...</td><td>...</td><td>...</td><td>...</td></tr>\n",
       "<tr><td>GALAXY</td><td>0.2212399165843569</td><td>3.963316269901661e+16</td><td>TGT</td><td>8.301457577044025e-06</td><td>0.0</td><td>246.50943797520944</td><td>44.75338456663628</td><td>REX</td></tr>\n",
       "<tr><td>STAR</td><td>-9.118594506603361e-05</td><td>3.963316269901805e+16</td><td>TGT</td><td>2.1365218055386266e-06</td><td>K</td><td>246.6347625332186</td><td>44.7022875296301</td><td>PSF</td></tr>\n",
       "<tr><td>GALAXY</td><td>0.2406928045383059</td><td>3.963316270321214e+16</td><td>TGT</td><td>8.942850611440166e-05</td><td>0.0</td><td>246.9541944212965</td><td>44.85536037344885</td><td>SER</td></tr>\n",
       "<tr><td>STAR</td><td>-5.0497528573948114e-05</td><td>3.963316270321268e+16</td><td>TGT</td><td>2.555279111753032e-06</td><td>G</td><td>246.99145347284033</td><td>44.77404114908357</td><td>PSF</td></tr>\n",
       "<tr><td>GALAXY</td><td>0.05876737078181758</td><td>6.160939150024379e+17</td><td>SKY</td><td>0.00010763097309633737</td><td>0.0</td><td>246.508268340719</td><td>44.67478294297424</td><td>0.0</td></tr>\n",
       "<tr><td>STAR</td><td>-0.00016766109053056982</td><td>3.96331627032128e+16</td><td>TGT</td><td>2.289793152831945e-06</td><td>K</td><td>247.00062084300112</td><td>44.75838694706803</td><td>PSF</td></tr>\n",
       "<tr><td>STAR</td><td>-0.000565306703476277</td><td>3.963316269901513e+16</td><td>TGT</td><td>3.3750542696289306e-06</td><td>K</td><td>246.38823221487826</td><td>44.792118369453476</td><td>PSF</td></tr>\n",
       "<tr><td>GALAXY</td><td>0.22987027512306632</td><td>3.963316270321263e+16</td><td>TGT</td><td>2.825931027113024e-05</td><td>0.0</td><td>246.98792761546525</td><td>44.8398657830197</td><td>SER</td></tr>\n",
       "<tr><td>GALAXY</td><td>0.896879467915351</td><td>6.160939063663668e+17</td><td>SKY</td><td>0.00011688297086264493</td><td>0.0</td><td>246.44532942910342</td><td>44.36401580335939</td><td>0.0</td></tr>\n",
       "<tr><td>GALAXY</td><td>0.03061579106890277</td><td>1071086582104067.0</td><td>TGT</td><td>1.2416188729963067e-05</td><td>0.0</td><td>246.72025298315953</td><td>44.51243339068513</td><td>0.0</td></tr>\n",
       "</table></div>"
      ],
      "text/plain": [
       "<Table length=89878>\n",
       "SPECTYPE            Z            ...     TARGET_DEC     MORPHTYPE\n",
       "  str7           float64         ...      float64          str7  \n",
       "-------- ----------------------- ... ------------------ ---------\n",
       "  GALAXY     0.12304444393698347 ...  35.15999350466772       SER\n",
       "  GALAXY     0.29457611574915027 ... 35.298171294155715       REX\n",
       "  GALAXY     0.26295948028332505 ...   35.2563912473969       REX\n",
       "  GALAXY      1.1613819989817356 ...  35.19275651875039       0.0\n",
       "  GALAXY     0.26355166471566344 ... 35.196753502348336       EXP\n",
       "  GALAXY     0.08709363315046506 ...  35.28205469932947       EXP\n",
       "  GALAXY     0.26495553753651446 ...  35.23854486920474       SER\n",
       "    STAR -0.00017170741474576307 ... 35.164102405409004       PSF\n",
       "  GALAXY      0.1138600133189154 ...  35.15489017306431       SER\n",
       "    STAR  -0.0005461945376769534 ...   35.1200088112371       PSF\n",
       "     ...                     ... ...                ...       ...\n",
       "  GALAXY      0.2212399165843569 ...  44.75338456663628       REX\n",
       "    STAR  -9.118594506603361e-05 ...   44.7022875296301       PSF\n",
       "  GALAXY      0.2406928045383059 ...  44.85536037344885       SER\n",
       "    STAR -5.0497528573948114e-05 ...  44.77404114908357       PSF\n",
       "  GALAXY     0.05876737078181758 ...  44.67478294297424       0.0\n",
       "    STAR -0.00016766109053056982 ...  44.75838694706803       PSF\n",
       "    STAR   -0.000565306703476277 ... 44.792118369453476       PSF\n",
       "  GALAXY     0.22987027512306632 ...   44.8398657830197       SER\n",
       "  GALAXY       0.896879467915351 ...  44.36401580335939       0.0\n",
       "  GALAXY     0.03061579106890277 ...  44.51243339068513       0.0"
      ]
     },
     "execution_count": 7,
     "metadata": {},
     "output_type": "execute_result"
    }
   ],
   "source": [
    "Table.read(espc, hdu=1)"
   ]
  },
  {
   "cell_type": "code",
   "execution_count": 8,
   "id": "74ca9c49-a0d8-47ed-90d8-945c752dac05",
   "metadata": {},
   "outputs": [],
   "source": [
    "STYPE= Table.read(espc, hdu=1)['SPECTYPE'].data\n",
    "RA= Table.read(espc, hdu=1)['TARGET_RA'].data\n",
    "DEC= Table.read(espc, hdu=1)['TARGET_DEC'].data"
   ]
  },
  {
   "cell_type": "markdown",
   "id": "3b649822-3a0f-4758-8ca4-b3a1b0c3dfbd",
   "metadata": {},
   "source": [
    "### Para que sea facil nuestro ejercicio unicamente trabajamos con los primeros datos"
   ]
  },
  {
   "cell_type": "code",
   "execution_count": 9,
   "id": "6764c188-3157-4919-8654-7e8608813c7c",
   "metadata": {},
   "outputs": [],
   "source": [
    "i=None"
   ]
  },
  {
   "cell_type": "code",
   "execution_count": 10,
   "id": "f56bfe9b-95d2-444f-b370-eb9eb3316f5e",
   "metadata": {},
   "outputs": [],
   "source": [
    "Spectra = Spectra[:i]"
   ]
  },
  {
   "cell_type": "code",
   "execution_count": 22,
   "id": "29620b9b-92dd-49f6-9aa2-2365d06b2b34",
   "metadata": {},
   "outputs": [
    {
     "data": {
      "text/plain": [
       "array([[-44.954617  , -17.544868  ,   5.971389  , ...,   6.8704705 ,\n",
       "          7.178707  ,   5.4901958 ],\n",
       "       [ -5.7764893 , -10.645928  ,   6.788937  , ...,   1.8684504 ,\n",
       "         -0.39677802,   2.1346123 ],\n",
       "       [-46.51395   , -12.42423   , -10.564693  , ...,   1.7962582 ,\n",
       "          2.0902228 ,   2.035537  ],\n",
       "       ...,\n",
       "       [ -3.0887322 ,   3.9484348 ,   9.715307  , ...,   1.6537042 ,\n",
       "          1.3760386 ,   2.2182627 ],\n",
       "       [ -2.642887  ,   0.72672445,   3.5981445 , ...,   0.32732147,\n",
       "          0.43141416,  -0.146458  ],\n",
       "       [-12.016526  ,   7.6717296 ,  -0.5498936 , ...,   0.18873805,\n",
       "          0.97489774,   1.4603783 ]], dtype=float32)"
      ]
     },
     "execution_count": 22,
     "metadata": {},
     "output_type": "execute_result"
    }
   ],
   "source": [
    "Spectra"
   ]
  },
  {
   "cell_type": "code",
   "execution_count": 12,
   "id": "d40d6ff1-7352-41d3-9964-21f1a57c2cee",
   "metadata": {},
   "outputs": [],
   "source": [
    "STYPE= STYPE[:i]\n",
    "RA= RA[:i]\n",
    "DEC= DEC[:i]"
   ]
  },
  {
   "cell_type": "code",
   "execution_count": 13,
   "id": "2aa5a42e-5b83-4dc9-92e1-36dae1761d99",
   "metadata": {},
   "outputs": [
    {
     "data": {
      "text/plain": [
       "array(['GALAXY', 'GALAXY', 'GALAXY', ..., 'GALAXY', 'GALAXY', 'GALAXY'],\n",
       "      dtype='<U7')"
      ]
     },
     "execution_count": 13,
     "metadata": {},
     "output_type": "execute_result"
    }
   ],
   "source": [
    "STYPE"
   ]
  },
  {
   "cell_type": "markdown",
   "id": "879678f8-fe2a-4d51-aeff-a78bc4d395b5",
   "metadata": {},
   "source": [
    "### Traducimos estos datos a H20Frame"
   ]
  },
  {
   "cell_type": "code",
   "execution_count": 23,
   "id": "b0846466-72d6-44a9-9f3a-b67f5bf21a1e",
   "metadata": {},
   "outputs": [
    {
     "name": "stdout",
     "output_type": "stream",
     "text": [
      "Parse progress: |████████████████████████████████████████████████████████████████| (done) 100%\n",
      "Parse progress: |████████████████████████████████████████████████████████████████| (done) 100%\n",
      "Parse progress: |████████████████████████████████████████████████████████████████| (done) 100%\n"
     ]
    }
   ],
   "source": [
    "#Creamos el H2O frame con una columna\n",
    "datos = h2o.H2OFrame(python_obj=RA, column_names=['TARGET_RA'], column_types=[\"float\"])\n",
    "\n",
    "#Agregamos mas columnas al frame que hemos creado\n",
    "dec_h2o= h2o.H2OFrame(python_obj=DEC, column_names=['TARGET_DEC'], column_types=[\"float\"])\n",
    "datos= datos.cbind(dec_h2o)\n",
    "\n",
    "#Agregamos mas columnas al frame que hemos creado\n",
    "spectype_h2o= h2o.H2OFrame(python_obj=STYPE, column_names=['SPECTYPE'], column_types=[\"string\"])\n",
    "datos= datos.cbind(spectype_h2o)"
   ]
  },
  {
   "cell_type": "code",
   "execution_count": 15,
   "id": "d213a5d5-500c-42b3-9e36-68247a6779ff",
   "metadata": {},
   "outputs": [
    {
     "data": {
      "text/plain": [
       "array([251.15602593, 251.13617943, 251.29263317, ..., 246.98792762,\n",
       "       246.44532943, 246.72025298])"
      ]
     },
     "execution_count": 15,
     "metadata": {},
     "output_type": "execute_result"
    }
   ],
   "source": [
    "RA"
   ]
  },
  {
   "cell_type": "code",
   "execution_count": 16,
   "id": "1527c1ab-0b89-4127-acd6-fea8dad42bea",
   "metadata": {},
   "outputs": [
    {
     "data": {
      "text/plain": [
       "array([35.1599935 , 35.29817129, 35.25639125, ..., 44.83986578,\n",
       "       44.3640158 , 44.51243339])"
      ]
     },
     "execution_count": 16,
     "metadata": {},
     "output_type": "execute_result"
    }
   ],
   "source": [
    "DEC"
   ]
  },
  {
   "cell_type": "code",
   "execution_count": 17,
   "id": "959c1b1f-4a04-41c2-957a-86701cd862ed",
   "metadata": {},
   "outputs": [
    {
     "data": {
      "text/html": [
       "<table class='dataframe'>\n",
       "<thead>\n",
       "<tr><th style=\"text-align: right;\">  TARGET_RA</th><th style=\"text-align: right;\">  TARGET_DEC</th><th>SPECTYPE  </th></tr>\n",
       "</thead>\n",
       "<tbody>\n",
       "<tr><td style=\"text-align: right;\">    251.156</td><td style=\"text-align: right;\">     35.16  </td><td>GALAXY    </td></tr>\n",
       "<tr><td style=\"text-align: right;\">    251.136</td><td style=\"text-align: right;\">     35.2982</td><td>GALAXY    </td></tr>\n",
       "<tr><td style=\"text-align: right;\">    251.293</td><td style=\"text-align: right;\">     35.2564</td><td>GALAXY    </td></tr>\n",
       "<tr><td style=\"text-align: right;\">    251.189</td><td style=\"text-align: right;\">     35.1928</td><td>GALAXY    </td></tr>\n",
       "<tr><td style=\"text-align: right;\">    251.221</td><td style=\"text-align: right;\">     35.1968</td><td>GALAXY    </td></tr>\n",
       "<tr><td style=\"text-align: right;\">    251.326</td><td style=\"text-align: right;\">     35.2821</td><td>GALAXY    </td></tr>\n",
       "<tr><td style=\"text-align: right;\">    251.134</td><td style=\"text-align: right;\">     35.2385</td><td>GALAXY    </td></tr>\n",
       "<tr><td style=\"text-align: right;\">    250.855</td><td style=\"text-align: right;\">     35.1641</td><td>STAR      </td></tr>\n",
       "<tr><td style=\"text-align: right;\">    251.093</td><td style=\"text-align: right;\">     35.1549</td><td>GALAXY    </td></tr>\n",
       "<tr><td style=\"text-align: right;\">    251.125</td><td style=\"text-align: right;\">     35.12  </td><td>STAR      </td></tr>\n",
       "</tbody>\n",
       "</table><pre style='font-size: smaller; margin-bottom: 1em;'>[89878 rows x 3 columns]</pre>"
      ],
      "text/plain": [
       "  TARGET_RA    TARGET_DEC  SPECTYPE\n",
       "-----------  ------------  ----------\n",
       "    251.156       35.16    GALAXY\n",
       "    251.136       35.2982  GALAXY\n",
       "    251.293       35.2564  GALAXY\n",
       "    251.189       35.1928  GALAXY\n",
       "    251.221       35.1968  GALAXY\n",
       "    251.326       35.2821  GALAXY\n",
       "    251.134       35.2385  GALAXY\n",
       "    250.855       35.1641  STAR\n",
       "    251.093       35.1549  GALAXY\n",
       "    251.125       35.12    STAR\n",
       "[89878 rows x 3 columns]\n"
      ]
     },
     "execution_count": 17,
     "metadata": {},
     "output_type": "execute_result"
    }
   ],
   "source": [
    "datos"
   ]
  },
  {
   "cell_type": "code",
   "execution_count": 20,
   "id": "a85977ba-56a9-4482-b44c-6625de050ac5",
   "metadata": {},
   "outputs": [
    {
     "data": {
      "text/plain": [
       "251.15602592812985"
      ]
     },
     "execution_count": 20,
     "metadata": {},
     "output_type": "execute_result"
    }
   ],
   "source": [
    "datos[0,0]"
   ]
  },
  {
   "cell_type": "markdown",
   "id": "8c777198-f964-47a3-b0b9-fb945d290c37",
   "metadata": {},
   "source": [
    "#Agregamos mas columnas al frame que hemos creado\n",
    "flujo_h2o= h2o.H2OFrame(python_obj=Spectra, column_names=['FLUX'], column_types=[\"enum\"])\n",
    "datos= datos.cbind(flujo_h2o)"
   ]
  },
  {
   "cell_type": "markdown",
   "id": "0aa31358-ee13-4caa-a4b7-be4a10498d74",
   "metadata": {},
   "source": [
    "### Elegimos las variables ojetivo (etiquetas) y las predictoras"
   ]
  },
  {
   "cell_type": "code",
   "execution_count": 18,
   "id": "7976cfc5-fcb1-4966-84dd-8284cc5ca136",
   "metadata": {},
   "outputs": [],
   "source": [
    "# Convierte la variable objetivo a factor utilizando la función asfactor()\n",
    "datos['SPECTYPE'] = datos['SPECTYPE'].asfactor()"
   ]
  },
  {
   "cell_type": "code",
   "execution_count": 19,
   "id": "eb192756-34d9-42bd-a4fb-7011fdba88b4",
   "metadata": {},
   "outputs": [],
   "source": [
    "# Define las columnas predictoras y la variable objetivo\n",
    "predictores = datos.columns[:-1]  # Todas las columnas excepto la última (SPECTYPE)\n",
    "objetivo='SPECTYPE'"
   ]
  },
  {
   "cell_type": "markdown",
   "id": "e3e09e23-862c-4f03-bcfc-429ed8ef6b25",
   "metadata": {},
   "source": [
    "### Dividimos datos y creamos una Red neuronal con H2O"
   ]
  },
  {
   "cell_type": "code",
   "execution_count": 20,
   "id": "faa26adb-c7ce-40fe-9c8b-46d5aa8a3c44",
   "metadata": {},
   "outputs": [],
   "source": [
    "# Divide el conjunto de datos en entrenamiento y prueba\n",
    "train, test = datos.split_frame(ratios=[0.6], seed=42)\n",
    "# train, test = datos.split_frame(ratios=[0.6], seed=42, stratified=SPECTYPE)"
   ]
  },
  {
   "cell_type": "code",
   "execution_count": 21,
   "id": "b4004253-4675-45cd-bd6c-cd6628e2f600",
   "metadata": {},
   "outputs": [
    {
     "data": {
      "text/html": [
       "<table class='dataframe'>\n",
       "<thead>\n",
       "<tr><th style=\"text-align: right;\">  TARGET_RA</th><th style=\"text-align: right;\">  TARGET_DEC</th><th>SPECTYPE  </th></tr>\n",
       "</thead>\n",
       "<tbody>\n",
       "<tr><td style=\"text-align: right;\">    251.136</td><td style=\"text-align: right;\">     35.2982</td><td>GALAXY    </td></tr>\n",
       "<tr><td style=\"text-align: right;\">    251.022</td><td style=\"text-align: right;\">     35.1235</td><td>STAR      </td></tr>\n",
       "<tr><td style=\"text-align: right;\">    251.068</td><td style=\"text-align: right;\">     35.1715</td><td>STAR      </td></tr>\n",
       "<tr><td style=\"text-align: right;\">    251.127</td><td style=\"text-align: right;\">     35.2855</td><td>GALAXY    </td></tr>\n",
       "<tr><td style=\"text-align: right;\">    251.086</td><td style=\"text-align: right;\">     35.1922</td><td>STAR      </td></tr>\n",
       "<tr><td style=\"text-align: right;\">    250.95 </td><td style=\"text-align: right;\">     35.1091</td><td>GALAXY    </td></tr>\n",
       "<tr><td style=\"text-align: right;\">    251.093</td><td style=\"text-align: right;\">     35.1251</td><td>GALAXY    </td></tr>\n",
       "<tr><td style=\"text-align: right;\">    251.129</td><td style=\"text-align: right;\">     35.2169</td><td>GALAXY    </td></tr>\n",
       "<tr><td style=\"text-align: right;\">    250.97 </td><td style=\"text-align: right;\">     35.2642</td><td>GALAXY    </td></tr>\n",
       "<tr><td style=\"text-align: right;\">    250.993</td><td style=\"text-align: right;\">     35.1524</td><td>GALAXY    </td></tr>\n",
       "</tbody>\n",
       "</table><pre style='font-size: smaller; margin-bottom: 1em;'>[35932 rows x 3 columns]</pre>"
      ],
      "text/plain": [
       "  TARGET_RA    TARGET_DEC  SPECTYPE\n",
       "-----------  ------------  ----------\n",
       "    251.136       35.2982  GALAXY\n",
       "    251.022       35.1235  STAR\n",
       "    251.068       35.1715  STAR\n",
       "    251.127       35.2855  GALAXY\n",
       "    251.086       35.1922  STAR\n",
       "    250.95        35.1091  GALAXY\n",
       "    251.093       35.1251  GALAXY\n",
       "    251.129       35.2169  GALAXY\n",
       "    250.97        35.2642  GALAXY\n",
       "    250.993       35.1524  GALAXY\n",
       "[35932 rows x 3 columns]\n"
      ]
     },
     "execution_count": 21,
     "metadata": {},
     "output_type": "execute_result"
    }
   ],
   "source": [
    "test"
   ]
  },
  {
   "cell_type": "code",
   "execution_count": 22,
   "id": "2edb5f0f-3707-4866-a1fa-05be7705eb9a",
   "metadata": {},
   "outputs": [
    {
     "name": "stdout",
     "output_type": "stream",
     "text": [
      "deeplearning Model Build progress: |█████████████████████████████████████████████| (done) 100%\n",
      "ModelMetricsMultinomial: deeplearning\n",
      "** Reported on test data. **\n",
      "\n",
      "MSE: 0.2602500185741389\n",
      "RMSE: 0.5101470558320795\n",
      "LogLoss: 0.7393802169582012\n",
      "Mean Per-Class Error: 0.6666666666666666\n",
      "AUC table was not computed: it is either disabled (model parameter 'auc_type' was set to AUTO or NONE) or the domain size exceeds the limit (maximum is 50 domains).\n",
      "AUCPR table was not computed: it is either disabled (model parameter 'auc_type' was set to AUTO or NONE) or the domain size exceeds the limit (maximum is 50 domains).\n",
      "\n",
      "Confusion Matrix: Row labels: Actual class; Column labels: Predicted class\n",
      "GALAXY    QSO    STAR    Error     Rate\n",
      "--------  -----  ------  --------  ---------------\n",
      "20247     0      0       0         0 / 20,247\n",
      "424       0      0       1         424 / 424\n",
      "15261     0      0       1         15,261 / 15,261\n",
      "35932     0      0       0.436519  15,685 / 35,932\n",
      "\n",
      "Top-3 Hit Ratios: \n",
      "k    hit_ratio\n",
      "---  -----------\n",
      "1    0.563481\n",
      "2    0.9882\n",
      "3    1\n",
      "[('TARGET_DEC', 1.0, 1.0, 0.5206947990934434), ('TARGET_RA', 0.9205108284950256, 0.9205108284950256, 0.47930520090655654)]\n"
     ]
    }
   ],
   "source": [
    "# Configura y entrena el modelo de red neuronal\n",
    "modelo_nn = H2ODeepLearningEstimator(epochs=100, hidden=[64, 128, 256, 256], distribution=\"multinomial\", activation=\"RectifierWithDropout\", variable_importances=True)\n",
    "#modelo_nn = H2ODeepLearningEstimator(epochs=10, hidden=[10, 10], distribution=\"multinomial\", activation=\"RectifierWithDropout\", variable_importances=True)\n",
    "modelo_nn.train(x=predictores, y=objetivo, training_frame=train, validation_frame=test)\n",
    "\n",
    "# Imprime métricas de rendimiento en el conjunto de prueba\n",
    "print(modelo_nn.model_performance(test_data=test))\n",
    "\n",
    "# Obtener las importancias de las variables\n",
    "importancias_variables = modelo_nn.varimp()\n",
    "# Imprimir las importancias de las variables\n",
    "print(importancias_variables)\n",
    "\n",
    "\n",
    "#Random forest, gradient boosting"
   ]
  },
  {
   "cell_type": "code",
   "execution_count": 23,
   "id": "18a6d25f-56e4-4970-ae13-01aff342ad07",
   "metadata": {},
   "outputs": [
    {
     "data": {
      "image/png": "[encoded data removed]",
      "text/plain": [
       "<Figure size 640x480 with 1 Axes>"
      ]
     },
     "metadata": {},
     "output_type": "display_data"
    }
   ],
   "source": [
    "# Graficar el Loss en cada época de entrenamiento y validación\n",
    "training_metrics = modelo_nn.score_history()\n",
    "plt.plot(training_metrics['epochs'], training_metrics['training_classification_error'], label='Training Error')\n",
    "plt.plot(training_metrics['epochs'], training_metrics['validation_classification_error'], label='Validation Error')\n",
    "plt.xlabel('Epochs')\n",
    "plt.ylabel('Error')\n",
    "plt.legend()\n",
    "plt.show()"
   ]
  },
  {
   "cell_type": "code",
   "execution_count": 24,
   "id": "7122164a-a795-4750-a29a-4693ecfa7906",
   "metadata": {},
   "outputs": [
    {
     "name": "stdout",
     "output_type": "stream",
     "text": [
      "H2O session _sid_ae0a closed.\n"
     ]
    }
   ],
   "source": [
    "# Cierra el cluster de H2O\n",
    "h2o.cluster().shutdown()"
   ]
  },
  {
   "cell_type": "markdown",
   "id": "2c375446-ab05-4756-96cb-da0e375c8346",
   "metadata": {},
   "source": [
    "### Inception"
   ]
  },
  {
   "cell_type": "raw",
   "id": "a490b041-6575-4b11-89ac-d1cd40c130b2",
   "metadata": {},
   "source": [
    "Clasifiacion"
   ]
  },
  {
   "cell_type": "code",
   "execution_count": 25,
   "id": "986eadd4-014e-4a17-ad5f-246f9e003282",
   "metadata": {},
   "outputs": [],
   "source": [
    "from keras.applications import InceptionV3\n",
    "from keras.models import Sequential, Model\n",
    "from keras.layers import Dense, GlobalAveragePooling2D, Dropout, BatchNormalization\n",
    "from keras.layers import GlobalAveragePooling1D\n",
    "from keras.optimizers import Adam\n",
    "from sklearn.model_selection import train_test_split\n",
    "from sklearn.preprocessing import LabelEncoder\n",
    "from keras.utils import to_categorical\n",
    "import numpy as np\n",
    "import matplotlib.pyplot as plt"
   ]
  },
  {
   "cell_type": "code",
   "execution_count": 26,
   "id": "66e95bec-5520-45fd-b74f-95be65b3be04",
   "metadata": {},
   "outputs": [
    {
     "ename": "NameError",
     "evalue": "name 'y' is not defined",
     "output_type": "error",
     "traceback": [
      "\u001b[1;31m---------------------------------------------------------------------------\u001b[0m",
      "\u001b[1;31mNameError\u001b[0m                                 Traceback (most recent call last)",
      "Cell \u001b[1;32mIn[26], line 7\u001b[0m\n\u001b[0;32m      5\u001b[0m \u001b[38;5;66;03m# Aigna un número entero a cada clase\u001b[39;00m\n\u001b[0;32m      6\u001b[0m label_encoder \u001b[38;5;241m=\u001b[39m LabelEncoder()\n\u001b[1;32m----> 7\u001b[0m y \u001b[38;5;241m=\u001b[39m label_encoder\u001b[38;5;241m.\u001b[39mfit_transform(\u001b[43my\u001b[49m)\n\u001b[0;32m      9\u001b[0m \u001b[38;5;66;03m# Divide los datos en conjuntos de entrenamiento y prueba\u001b[39;00m\n\u001b[0;32m     10\u001b[0m X_train, X_test, y_train, y_test \u001b[38;5;241m=\u001b[39m train_test_split(Spectra_set, y, test_size\u001b[38;5;241m=\u001b[39m\u001b[38;5;241m0.252371\u001b[39m, random_state\u001b[38;5;241m=\u001b[39m\u001b[38;5;241m42\u001b[39m)\n",
      "\u001b[1;31mNameError\u001b[0m: name 'y' is not defined"
     ]
    }
   ],
   "source": [
    "# Asumiendo que Spectra_set y y están definidos\n",
    "\n",
    "num_classes = 3  # Número de clases\n",
    "\n",
    "# Aigna un número entero a cada clase\n",
    "label_encoder = LabelEncoder()\n",
    "y = label_encoder.fit_transform(y)\n",
    "\n",
    "# Divide los datos en conjuntos de entrenamiento y prueba\n",
    "X_train, X_test, y_train, y_test = train_test_split(Spectra_set, y, test_size=0.252371, random_state=42)\n",
    "\n",
    "# Convierte las etiquetas a codificación one-hot\n",
    "y_train = to_categorical(y_train, num_classes)\n",
    "y_test = to_categorical(y_test, num_classes)\n",
    "\n",
    "# Cargar el modelo preentrenado InceptionV3\n",
    "\n",
    "#base_model = InceptionV3(weights='imagenet', include_top=False, input_shape=(((len(X[0]),1)), 1)) #imagenet impone pesos preentrenados para imagenes\n",
    "base_model = InceptionV3(weights=None, include_top=False, input_shape=(len(X[0]), 1, 1))  #imagenet impone pesos preentrenados para imagenes\n",
    "\n",
    "# Agregar capas adicionales al modelo\n",
    "x = base_model.output\n",
    "x = GlobalAveragePooling1D()(x)\n",
    "x = Dense(1024, activation='relu')(x)\n",
    "x = BatchNormalization()(x)\n",
    "x = Dropout(0.5)(x)\n",
    "x = Dense(512, activation='relu')(x)\n",
    "x = BatchNormalization()(x)\n",
    "x = Dropout(0.5)(x)\n",
    "predictions = Dense(num_classes, activation='softmax')(x)\n",
    "\n",
    "# Crear el modelo final\n",
    "model = Model(inputs=base_model.input, outputs=predictions)\n",
    "\n",
    "# Compilar el modelo\n",
    "model.compile(optimizer=Adam(), loss='categorical_crossentropy', metrics=['accuracy'])\n",
    "\n",
    "# Entrenar el modelo\n",
    "history = model.fit(X_train, y_train, epochs=100, batch_size=32, validation_split=0.2)\n",
    "\n",
    "# Guardar el modelo\n",
    "model.save(\"mi_modelo_clasificacion_inception.h5\")\n",
    "\n",
    "# Evaluar el modelo en el conjunto de prueba\n",
    "loss, accuracy = model.evaluate(X_test, y_test, verbose=0)\n",
    "print(\"Loss:\", loss)\n",
    "print(f'Accuracy: {accuracy * 100:.2f}%')\n",
    "\n",
    "# Visualización del rendimiento\n",
    "plt.plot(history.history['loss'], label='Train Loss')\n",
    "plt.plot(history.history['val_loss'], label='Validation Loss')\n",
    "plt.legend()\n",
    "plt.xlabel('Epochs')\n",
    "plt.ylabel('Loss')\n",
    "plt.show()"
   ]
  }
 ],
 "metadata": {
  "kernelspec": {
   "display_name": "Python 3 (ipykernel)",
   "language": "python",
   "name": "python3"
  },
  "language_info": {
   "codemirror_mode": {
    "name": "ipython",
    "version": 3
   },
   "file_extension": ".py",
   "mimetype": "text/x-python",
   "name": "python",
   "nbconvert_exporter": "python",
   "pygments_lexer": "ipython3",
   "version": "3.8.2"
  }
 },
 "nbformat": 4,
 "nbformat_minor": 5
}
