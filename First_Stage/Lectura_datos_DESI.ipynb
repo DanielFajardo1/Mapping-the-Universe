{
 "cells": [
  {
   "cell_type": "code",
   "execution_count": 1,
   "id": "c1abb8d3-80ac-4244-8361-fc890ad4e02a",
   "metadata": {},
   "outputs": [],
   "source": [
    "from astropy.io import fits\n",
    "from astropy.table import Table"
   ]
  },
  {
   "cell_type": "code",
   "execution_count": 2,
   "id": "796673da-1e42-48b2-97aa-327002e6f781",
   "metadata": {},
   "outputs": [],
   "source": [
    "#Abrimos los archivos\n",
    "espc = fits.open('DataDESI_691_752.fits') #open file\n",
    "wave= fits.open('B_R_Z_wavelenght.fits')"
   ]
  },
  {
   "cell_type": "code",
   "execution_count": 3,
   "id": "3253133c-95df-4d8f-af1b-2068bd527f13",
   "metadata": {},
   "outputs": [
    {
     "name": "stdout",
     "output_type": "stream",
     "text": [
      "Filename: DataDESI_691_752.fits\n",
      "No.    Name      Ver    Type      Cards   Dimensions   Format\n",
      "  0  PRIMARY       1 PrimaryHDU       4   ()      \n",
      "  1                1 BinTableHDU     26   89878R x 9C   [7A, D, D, 7A, D, 21A, D, D, 7A]   \n",
      "  2  B_FLUX        1 ImageHDU         8   (2751, 89878)   float32   \n",
      "  3  R_FLUX        1 ImageHDU         8   (2326, 89878)   float32   \n",
      "  4  Z_FLUX        1 ImageHDU         8   (2881, 89878)   float32   \n"
     ]
    }
   ],
   "source": [
    "espc.info() #resume el contenido de la tabla, Esta contiene los flujos y datos de los espectros"
   ]
  },
  {
   "cell_type": "code",
   "execution_count": 6,
   "id": "f655e500-fb7f-4a6e-be83-2fe562908c2d",
   "metadata": {},
   "outputs": [
    {
     "name": "stdout",
     "output_type": "stream",
     "text": [
      "Filename: B_R_Z_wavelenght.fits\n",
      "No.    Name      Ver    Type      Cards   Dimensions   Format\n",
      "  0  PRIMARY       1 PrimaryHDU       4   ()      \n",
      "  1  B_WAVELENGHT    1 ImageHDU         7   (2751,)   float64   \n",
      "  2  R_WAVELENGHT    1 ImageHDU         7   (2326,)   float64   \n",
      "  3  Z_WAVELENGHT    1 ImageHDU         7   (2881,)   float64   \n"
     ]
    }
   ],
   "source": [
    "wave.info() #Este trae las longitudes de onda en los tres filtros utilziados por DESI (B,R,Z)"
   ]
  },
  {
   "cell_type": "code",
   "execution_count": 13,
   "id": "3f334244-5d9e-4fb2-8b58-7538b69c3faf",
   "metadata": {},
   "outputs": [],
   "source": [
    "#Leeremos la tabla de espc\n",
    "Table=Table.read(espc, hdu=1)"
   ]
  },
  {
   "cell_type": "code",
   "execution_count": 14,
   "id": "6b3e47c8-b015-4a22-913a-f0b709b54b31",
   "metadata": {},
   "outputs": [
    {
     "data": {
      "text/html": [
       "<div><i>Table length=89878</i>\n",
       "<table id=\"table1499068351920\" class=\"table-striped table-bordered table-condensed\">\n",
       "<thead><tr><th>SPECTYPE</th><th>Z</th><th>TARGETID</th><th>OBJTYPE</th><th>Z_ERR</th><th>SUBTYPE</th><th>TARGET_RA</th><th>TARGET_DEC</th><th>MORPHTYPE</th></tr></thead>\n",
       "<thead><tr><th>str7</th><th>float64</th><th>float64</th><th>str7</th><th>float64</th><th>str21</th><th>float64</th><th>float64</th><th>str7</th></tr></thead>\n",
       "<tr><td>GALAXY</td><td>0.12304444393698347</td><td>3.963298676893649e+16</td><td>TGT</td><td>4.1065983890874034e-05</td><td>0.0</td><td>251.15602592812982</td><td>35.15999350466772</td><td>SER</td></tr>\n",
       "<tr><td>GALAXY</td><td>0.29457611574915027</td><td>3.963298676893617e+16</td><td>TGT</td><td>1.5230988695018649e-05</td><td>0.0</td><td>251.13617942652738</td><td>35.298171294155715</td><td>REX</td></tr>\n",
       "<tr><td>GALAXY</td><td>0.26295948028332505</td><td>3.963298677312854e+16</td><td>TGT</td><td>1.8882726599351002e-05</td><td>0.0</td><td>251.29263317255828</td><td>35.2563912473969</td><td>REX</td></tr>\n",
       "<tr><td>GALAXY</td><td>1.1613819989817356</td><td>6.160937390723566e+17</td><td>SKY</td><td>9.201895922269369e-05</td><td>0.0</td><td>251.18910901219022</td><td>35.19275651875039</td><td>0.0</td></tr>\n",
       "<tr><td>GALAXY</td><td>0.26355166471566344</td><td>3.963298677312746e+16</td><td>TGT</td><td>3.503667072881993e-05</td><td>0.0</td><td>251.22081435317995</td><td>35.196753502348336</td><td>EXP</td></tr>\n",
       "<tr><td>GALAXY</td><td>0.08709363315046506</td><td>3.963298677312904e+16</td><td>TGT</td><td>3.865175488516558e-06</td><td>0.0</td><td>251.32575334761174</td><td>35.28205469932947</td><td>EXP</td></tr>\n",
       "<tr><td>GALAXY</td><td>0.26495553753651446</td><td>3.9632986768936136e+16</td><td>TGT</td><td>7.675386768239847e-05</td><td>0.0</td><td>251.13412200880515</td><td>35.23854486920474</td><td>SER</td></tr>\n",
       "<tr><td>STAR</td><td>-0.00017170741474576307</td><td>3.963298676474267e+16</td><td>TGT</td><td>6.297295578494421e-06</td><td>G</td><td>250.85477816221342</td><td>35.164102405409004</td><td>PSF</td></tr>\n",
       "<tr><td>GALAXY</td><td>0.1138600133189154</td><td>3.963298676893551e+16</td><td>TGT</td><td>7.161186384705142e-05</td><td>0.0</td><td>251.09286363782294</td><td>35.15489017306431</td><td>SER</td></tr>\n",
       "<tr><td>STAR</td><td>-0.0005461945376769534</td><td>3.9632981823850696e+16</td><td>TGT</td><td>5.1880335838730204e-06</td><td>F</td><td>251.12491082094607</td><td>35.1200088112371</td><td>PSF</td></tr>\n",
       "<tr><td>...</td><td>...</td><td>...</td><td>...</td><td>...</td><td>...</td><td>...</td><td>...</td><td>...</td></tr>\n",
       "<tr><td>GALAXY</td><td>0.2212399165843569</td><td>3.963316269901661e+16</td><td>TGT</td><td>8.301457577044025e-06</td><td>0.0</td><td>246.50943797520944</td><td>44.75338456663628</td><td>REX</td></tr>\n",
       "<tr><td>STAR</td><td>-9.118594506603361e-05</td><td>3.963316269901805e+16</td><td>TGT</td><td>2.1365218055386266e-06</td><td>K</td><td>246.6347625332186</td><td>44.7022875296301</td><td>PSF</td></tr>\n",
       "<tr><td>GALAXY</td><td>0.2406928045383059</td><td>3.963316270321214e+16</td><td>TGT</td><td>8.942850611440166e-05</td><td>0.0</td><td>246.9541944212965</td><td>44.85536037344885</td><td>SER</td></tr>\n",
       "<tr><td>STAR</td><td>-5.0497528573948114e-05</td><td>3.963316270321268e+16</td><td>TGT</td><td>2.555279111753032e-06</td><td>G</td><td>246.99145347284033</td><td>44.77404114908357</td><td>PSF</td></tr>\n",
       "<tr><td>GALAXY</td><td>0.05876737078181758</td><td>6.160939150024379e+17</td><td>SKY</td><td>0.00010763097309633737</td><td>0.0</td><td>246.508268340719</td><td>44.67478294297424</td><td>0.0</td></tr>\n",
       "<tr><td>STAR</td><td>-0.00016766109053056982</td><td>3.96331627032128e+16</td><td>TGT</td><td>2.289793152831945e-06</td><td>K</td><td>247.00062084300112</td><td>44.75838694706803</td><td>PSF</td></tr>\n",
       "<tr><td>STAR</td><td>-0.000565306703476277</td><td>3.963316269901513e+16</td><td>TGT</td><td>3.3750542696289306e-06</td><td>K</td><td>246.38823221487826</td><td>44.792118369453476</td><td>PSF</td></tr>\n",
       "<tr><td>GALAXY</td><td>0.22987027512306632</td><td>3.963316270321263e+16</td><td>TGT</td><td>2.825931027113024e-05</td><td>0.0</td><td>246.98792761546525</td><td>44.8398657830197</td><td>SER</td></tr>\n",
       "<tr><td>GALAXY</td><td>0.896879467915351</td><td>6.160939063663668e+17</td><td>SKY</td><td>0.00011688297086264493</td><td>0.0</td><td>246.44532942910342</td><td>44.36401580335939</td><td>0.0</td></tr>\n",
       "<tr><td>GALAXY</td><td>0.03061579106890277</td><td>1071086582104067.0</td><td>TGT</td><td>1.2416188729963067e-05</td><td>0.0</td><td>246.72025298315953</td><td>44.51243339068513</td><td>0.0</td></tr>\n",
       "</table></div>"
      ],
      "text/plain": [
       "<Table length=89878>\n",
       "SPECTYPE            Z            ...     TARGET_DEC     MORPHTYPE\n",
       "  str7           float64         ...      float64          str7  \n",
       "-------- ----------------------- ... ------------------ ---------\n",
       "  GALAXY     0.12304444393698347 ...  35.15999350466772       SER\n",
       "  GALAXY     0.29457611574915027 ... 35.298171294155715       REX\n",
       "  GALAXY     0.26295948028332505 ...   35.2563912473969       REX\n",
       "  GALAXY      1.1613819989817356 ...  35.19275651875039       0.0\n",
       "  GALAXY     0.26355166471566344 ... 35.196753502348336       EXP\n",
       "  GALAXY     0.08709363315046506 ...  35.28205469932947       EXP\n",
       "  GALAXY     0.26495553753651446 ...  35.23854486920474       SER\n",
       "    STAR -0.00017170741474576307 ... 35.164102405409004       PSF\n",
       "  GALAXY      0.1138600133189154 ...  35.15489017306431       SER\n",
       "    STAR  -0.0005461945376769534 ...   35.1200088112371       PSF\n",
       "     ...                     ... ...                ...       ...\n",
       "  GALAXY      0.2212399165843569 ...  44.75338456663628       REX\n",
       "    STAR  -9.118594506603361e-05 ...   44.7022875296301       PSF\n",
       "  GALAXY      0.2406928045383059 ...  44.85536037344885       SER\n",
       "    STAR -5.0497528573948114e-05 ...  44.77404114908357       PSF\n",
       "  GALAXY     0.05876737078181758 ...  44.67478294297424       0.0\n",
       "    STAR -0.00016766109053056982 ...  44.75838694706803       PSF\n",
       "    STAR   -0.000565306703476277 ... 44.792118369453476       PSF\n",
       "  GALAXY     0.22987027512306632 ...   44.8398657830197       SER\n",
       "  GALAXY       0.896879467915351 ...  44.36401580335939       0.0\n",
       "  GALAXY     0.03061579106890277 ...  44.51243339068513       0.0"
      ]
     },
     "execution_count": 14,
     "metadata": {},
     "output_type": "execute_result"
    }
   ],
   "source": [
    "Table"
   ]
  },
  {
   "cell_type": "code",
   "execution_count": 17,
   "id": "ebb5af13-35a1-460b-86f5-1399f10891e1",
   "metadata": {},
   "outputs": [
    {
     "data": {
      "text/plain": [
       "array(['GALAXY', 'GALAXY', 'GALAXY', ..., 'GALAXY', 'GALAXY', 'GALAXY'],\n",
       "      dtype='<U7')"
      ]
     },
     "execution_count": 17,
     "metadata": {},
     "output_type": "execute_result"
    }
   ],
   "source": [
    "#Para extraer columnas\n",
    "Table.read(espc, hdu=1)['SPECTYPE'].data"
   ]
  },
  {
   "cell_type": "code",
   "execution_count": 18,
   "id": "6e5328da-7f0b-4be5-adc2-2bba43a2c58a",
   "metadata": {},
   "outputs": [],
   "source": [
    "#Para extraer los valores de flujo en cada filtro\n",
    "flux_b=espc[2].data\n",
    "flux_r=espc[3].data\n",
    "flux_z=espc[4].data\n",
    "\n",
    "Bwave = wave[1].data\n",
    "Rwave = wave[2].data\n",
    "Zwave = wave[3].data"
   ]
  },
  {
   "cell_type": "code",
   "execution_count": 20,
   "id": "2b1a60ec-5971-4875-a91a-83950f8aab43",
   "metadata": {},
   "outputs": [
    {
     "data": {
      "text/plain": [
       "array([[-44.954617  , -17.544868  ,   5.971389  , ...,   6.625494  ,\n",
       "          4.758343  ,   4.748968  ],\n",
       "       [ -5.7764893 , -10.645928  ,   6.788937  , ...,  -2.7129195 ,\n",
       "         -0.4164733 ,   4.1377487 ],\n",
       "       [-46.51395   , -12.42423   , -10.564693  , ...,   2.6279047 ,\n",
       "          4.9252324 ,   5.003585  ],\n",
       "       ...,\n",
       "       [ -3.0887322 ,   3.9484348 ,   9.715307  , ...,   0.51190484,\n",
       "          1.7364826 ,   1.8540128 ],\n",
       "       [ -2.642887  ,   0.72672445,   3.5981445 , ...,  -0.735305  ,\n",
       "         -1.2527728 ,   2.121454  ],\n",
       "       [-12.016526  ,   7.6717296 ,  -0.5498936 , ...,   0.61421674,\n",
       "          0.26964888,  -0.41212445]], dtype=float32)"
      ]
     },
     "execution_count": 20,
     "metadata": {},
     "output_type": "execute_result"
    }
   ],
   "source": [
    "flux_b #Es un arreglo en donde cada posicion dentro de la 'lista' grande corresponde al flujo en la banda B de DESI de cada uno de los espectros"
   ]
  },
  {
   "cell_type": "code",
   "execution_count": 23,
   "id": "40e6d2e0-61bb-41f7-9139-496a64191d3a",
   "metadata": {},
   "outputs": [
    {
     "name": "stdout",
     "output_type": "stream",
     "text": [
      "Número de estrellas: 37986\n"
     ]
    }
   ],
   "source": [
    "num_estrellas = len(Table[Table['SPECTYPE'] == 'STAR'])\n",
    "print('Número de estrellas:', num_estrellas)"
   ]
  },
  {
   "cell_type": "code",
   "execution_count": 25,
   "id": "7010ad06-85cd-4fa4-a337-67bf5b141754",
   "metadata": {},
   "outputs": [
    {
     "name": "stdout",
     "output_type": "stream",
     "text": [
      "Número total de estrellas: 37986\n",
      "Número de estrellas por SUBTYPE:\n",
      "G: 8613\n",
      "F: 1623\n",
      "CV: 1468\n",
      "K: 20124\n",
      "M: 5900\n",
      "A: 107\n",
      "WD: 137\n",
      "B: 14\n"
     ]
    }
   ],
   "source": [
    "# Crear un diccionario para contar las estrellas por SUBTYPE\n",
    "estrellas_por_subtype = {}\n",
    "\n",
    "# Filtrar las filas correspondientes a estrellas\n",
    "estrellas = Table[Table['SPECTYPE'] == 'STAR']\n",
    "\n",
    "# Contar el número de estrellas por SUBTYPE\n",
    "for subtype in estrellas['SUBTYPE']:\n",
    "    if subtype in estrellas_por_subtype:\n",
    "        estrellas_por_subtype[subtype] += 1\n",
    "    else:\n",
    "        estrellas_por_subtype[subtype] = 1\n",
    "\n",
    "# Imprimir el número total de estrellas\n",
    "print('Número total de estrellas:', num_estrellas)\n",
    "\n",
    "# Imprimir el número de estrellas por SUBTYPE\n",
    "print('Número de estrellas por SUBTYPE:')\n",
    "for subtype, count in estrellas_por_subtype.items():\n",
    "    print(f'{subtype}: {count}')"
   ]
  },
  {
   "cell_type": "code",
   "execution_count": null,
   "id": "bcaa8240-78f1-41d3-8b54-e9db179f2f3e",
   "metadata": {},
   "outputs": [],
   "source": []
  }
 ],
 "metadata": {
  "kernelspec": {
   "display_name": "Python 3 (ipykernel)",
   "language": "python",
   "name": "python3"
  },
  "language_info": {
   "codemirror_mode": {
    "name": "ipython",
    "version": 3
   },
   "file_extension": ".py",
   "mimetype": "text/x-python",
   "name": "python",
   "nbconvert_exporter": "python",
   "pygments_lexer": "ipython3",
   "version": "3.8.2"
  }
 },
 "nbformat": 4,
 "nbformat_minor": 5
}
