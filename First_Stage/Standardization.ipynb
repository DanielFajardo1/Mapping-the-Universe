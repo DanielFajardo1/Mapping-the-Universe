{
 "cells": [
  {
   "cell_type": "code",
   "execution_count": 2,
   "id": "fc9a63c0-783b-4292-b90c-915840b0dbff",
   "metadata": {},
   "outputs": [],
   "source": [
    "import numpy as np\n",
    "from astropy.io import fits"
   ]
  },
  {
   "cell_type": "markdown",
   "id": "b9027ddf-cd35-49f8-97b3-bc43ae7dcc11",
   "metadata": {},
   "source": [
    "### We Standardize all spectra"
   ]
  },
  {
   "cell_type": "code",
   "execution_count": 3,
   "id": "cbf15590-9522-4898-a029-6ad540163f1d",
   "metadata": {},
   "outputs": [],
   "source": [
    "archivos= ['DataDESI_1_76.fits', 'DataDESI_77_152.fits', 'DataDESI_153_213.fits', 'DataDESI_214_284.fits', 'DataDESI_285_351.fits', 'DataDESI_352_438.fits'\n",
    "             , 'DataDESI_439_530.fits', 'DataDESI_531_606.fits', 'DataDESI_607_690.fits', 'DataDESI_691_752.fits']"
   ]
  },
  {
   "cell_type": "code",
   "execution_count": 3,
   "id": "02159861-67d0-4c56-90c7-5b94cad9bba8",
   "metadata": {},
   "outputs": [
    {
     "name": "stdout",
     "output_type": "stream",
     "text": [
      "1\n",
      "2\n",
      "3\n",
      "4\n",
      "5\n",
      "6\n",
      "7\n",
      "8\n",
      "9\n",
      "10\n"
     ]
    }
   ],
   "source": [
    "B_mean=[]# en estas listas se guardaran todos los espectros\n",
    "Z_mean=[]\n",
    "R_mean=[]\n",
    "B_var = []  # Lista para guardar las varianzas\n",
    "Z_var = []\n",
    "R_var = []\n",
    "N_espectros= 0 #Este se utiliza para calcular la media de cada pixel\n",
    "N_espectros_menos_1= 0 #Este se utiliza para calcular la varianza agrupada \n",
    "\n",
    "n=0\n",
    "\n",
    "for h in range(len(archivos)):\n",
    "    espc = fits.open(archivos[h]) #open file\n",
    "    len_espc= len(espc[2].data)\n",
    "    \n",
    "    #leemos la informacion\n",
    "    Bflux=espc[2].data\n",
    "    Rflux=espc[3].data\n",
    "    Zflux=espc[4].data\n",
    "\n",
    "    promedios_b = np.mean(Bflux, axis=0)\n",
    "    promedios_r = np.mean(Rflux, axis=0)\n",
    "    promedios_z = np.mean(Zflux, axis=0)\n",
    "\n",
    "    promedios_b_promedio = [arr * (len_espc) for arr in promedios_b] #Estas guardan NhPh\n",
    "    promedios_r_promedio = [arr * (len_espc) for arr in promedios_r]\n",
    "    promedios_z_promedio = [arr * (len_espc) for arr in promedios_z]\n",
    "\n",
    "    N_espectros+= len_espc #Va sumando los espectros para tener en cuenta la muestra total\n",
    "\n",
    "    B_mean.append(promedios_b_promedio) #Estas guardan N1P1,N2P2,...,N11P11\n",
    "    Z_mean.append(promedios_z_promedio)\n",
    "    R_mean.append(promedios_r_promedio)\n",
    "\n",
    "\n",
    "    varianza_b = np.var(Bflux, axis=0)\n",
    "    varianza_r = np.var(Rflux, axis=0)\n",
    "    varianza_z = np.var(Zflux, axis=0)\n",
    "\n",
    "    varianza_b_varianza = [arr * (len_espc-1) for arr in varianza_b] #Estas guardan (Nh-1)sigmah\n",
    "    varianza_r_varianza = [arr * (len_espc-1) for arr in varianza_r]\n",
    "    varianza_z_varianza = [arr * (len_espc-1) for arr in varianza_z]\n",
    "\n",
    "    N_espectros_menos_1+= len_espc-1\n",
    "\n",
    "    B_var.append(varianza_b_varianza) #Estas guardan (N1-1)sigma1,(N2-1)sigma2,...,(N11-1)sigma11\n",
    "    Z_var.append(varianza_z_varianza)\n",
    "    R_var.append(varianza_r_varianza)\n",
    "    \n",
    "    n+=1\n",
    "    print(n)\n",
    "\n",
    "\n",
    "ponderacion_B = [sum(valores) for valores in zip(*B_mean)] #Suma N1P1+N2P2+...+N11P11 solo falta dividir entre la cantidad total\n",
    "ponderacion_Z = [sum(valores) for valores in zip(*Z_mean)]\n",
    "ponderacion_R = [sum(valores) for valores in zip(*R_mean)]\n",
    "\n",
    "media_pixel_B = np.array([elemento / N_espectros for elemento in ponderacion_B])#Estas son las listas con los valores promedios\n",
    "media_pixel_Z = np.array([elemento / N_espectros for elemento in ponderacion_Z])# en cada pixel\n",
    "media_pixel_R = np.array([elemento / N_espectros for elemento in ponderacion_R])\n",
    "\n",
    "\n",
    "var_agrupada_B = [sum(valores) for valores in zip(*B_var)] #Suma (N1-1)sigma1+(N2-1)sigma2+...+(N11-1)sigma11\n",
    "var_agrupada_Z = [sum(valores) for valores in zip(*Z_var)]\n",
    "var_agrupada_R = [sum(valores) for valores in zip(*R_var)]\n",
    "\n",
    "var_B = np.array([elemento / N_espectros_menos_1 for elemento in var_agrupada_B])#Estas son las listas con las varianzas\n",
    "var_Z = np.array([elemento / N_espectros_menos_1 for elemento in var_agrupada_Z])# en cada pixel\n",
    "var_R = np.array([elemento / N_espectros_menos_1 for elemento in var_agrupada_R])\n",
    "\n",
    "\n",
    "desv_B = np.sqrt(var_B) #Estas son las listas con las desviaciones en cada pixel\n",
    "desv_Z = np.sqrt(var_Z)\n",
    "desv_R = np.sqrt(var_R)"
   ]
  },
  {
   "cell_type": "markdown",
   "id": "8e86425c-76a0-4987-b10d-cb1fad8b852c",
   "metadata": {},
   "source": [
    "### We use this mean and desv values to create a new set of standardized spectra"
   ]
  },
  {
   "cell_type": "code",
   "execution_count": 4,
   "id": "894a04f0-b517-4a04-9e48-34abf0673226",
   "metadata": {},
   "outputs": [],
   "source": [
    "#archivos= ['DataDESI_1_76.fits', 'DataDESI_77_152.fits', 'DataDESI_153_213.fits', 'DataDESI_214_284.fits', 'DataDESI_285_351.fits', 'DataDESI_352_438.fits'\n",
    "#             , 'DataDESI_439_530.fits', 'DataDESI_531_606.fits', 'DataDESI_607_690.fits', 'DataDESI_691_752.fits']\n",
    "archivo= ['DataDESI_691_752.fits']"
   ]
  },
  {
   "cell_type": "code",
   "execution_count": 5,
   "id": "e9a68e21-e3c4-493d-ad7c-98201a87c4f8",
   "metadata": {},
   "outputs": [
    {
     "name": "stdout",
     "output_type": "stream",
     "text": [
      "Copiado\n"
     ]
    }
   ],
   "source": [
    "for h in range(len(archivo)):\n",
    "    espc = fits.open(archivo[h])\n",
    "    \n",
    "    B_FLUX_STAN=[]\n",
    "    Z_FLUX_STAN=[]\n",
    "    R_FLUX_STAN=[]\n",
    "    \n",
    "    for i in range(len(espc[4].data)):\n",
    "        espc_b=((espc[2].data[i])-media_pixel_B)/desv_B\n",
    "        espc_z=((espc[4].data[i])-media_pixel_Z)/desv_Z\n",
    "        espc_r=((espc[3].data[i])-media_pixel_R)/desv_R\n",
    "    \n",
    "        B_FLUX_STAN.append(espc_b)\n",
    "        Z_FLUX_STAN.append(espc_z)\n",
    "        R_FLUX_STAN.append(espc_r)\n",
    "#        print(\"copiado_1\")\n",
    "    \n",
    "    B_FLUX_STAN=np.array(B_FLUX_STAN, dtype=np.float32)\n",
    "    Z_FLUX_STAN=np.array(Z_FLUX_STAN, dtype=np.float32)\n",
    "    R_FLUX_STAN=np.array(R_FLUX_STAN, dtype=np.float32)\n",
    "    \n",
    "    \n",
    "    ##### AQUI DEBEMOS CREAR UN ARCHIVO.FITS EN DONDE VUELVA A GUARDAR LA MISMA TABLA DE LA OTRA VEZ Y AHORA B_FLUX_STAN, Z_FLUX_STAN, R_FLUX_STAN.\n",
    "    # Crea un objeto ImageHDU\n",
    "    hdub = fits.ImageHDU(B_FLUX_STAN)\n",
    "    hduz = fits.ImageHDU(Z_FLUX_STAN)\n",
    "    hdur = fits.ImageHDU(R_FLUX_STAN)\n",
    "    \n",
    "    # Establece el nombre del HDU como 'B_FLUX'\n",
    "    hdub.name = 'B_FLUX_S'\n",
    "    hdur.name = 'R_FLUX_S'\n",
    "    hduz.name = 'Z_FLUX_S'\n",
    "    \n",
    "    #Agrega al fits.\n",
    "    nombre_archivo = 'DataDESI.fits'\n",
    "    hdulist = fits.open(nombre_archivo, mode='append')\n",
    "    bintable_hdu = fits.BinTableHDU(espc[1].data)\n",
    "    bintable_hdu.header = espc[1].header\n",
    "    hdulist.append(bintable_hdu)\n",
    "    hdulist.append(hdub)\n",
    "    hdulist.append(hdur)\n",
    "    hdulist.append(hduz)\n",
    "    print(\"Copiado\")\n",
    "    hdulist.close() "
   ]
  },
  {
   "cell_type": "code",
   "execution_count": null,
   "id": "dcac5dba-d7e8-4add-ad54-50fdee45fade",
   "metadata": {},
   "outputs": [],
   "source": []
  },
  {
   "cell_type": "code",
   "execution_count": 6,
   "id": "01facfd7-4ad9-4fb4-a0d8-e52f191edbd4",
   "metadata": {},
   "outputs": [
    {
     "name": "stdout",
     "output_type": "stream",
     "text": [
      "Filename: DataDESI.fits\n",
      "No.    Name      Ver    Type      Cards   Dimensions   Format\n",
      "  0  PRIMARY       1 PrimaryHDU       4   ()      \n",
      "  1                1 BinTableHDU     26   89878R x 9C   [7A, D, D, 7A, D, 21A, D, D, 7A]   \n",
      "  2  B_FLUX_S      1 ImageHDU         8   (2751, 89878)   float32   \n",
      "  3  R_FLUX_S      1 ImageHDU         8   (2326, 89878)   float32   \n",
      "  4  Z_FLUX_S      1 ImageHDU         8   (2881, 89878)   float32   \n",
      "89878\n"
     ]
    }
   ],
   "source": [
    "from astropy.table import Table\n",
    "espc = fits.open('DataDESI.fits')\n",
    "espc.info()\n",
    "print(len(espc[2].data))"
   ]
  },
  {
   "cell_type": "code",
   "execution_count": 7,
   "id": "ae8fe1ff-34ec-4d53-9269-bd2c0f2ada89",
   "metadata": {},
   "outputs": [
    {
     "data": {
      "text/html": [
       "<div><i>Table length=89878</i>\n",
       "<table id=\"table1616230038448\" class=\"table-striped table-bordered table-condensed\">\n",
       "<thead><tr><th>SPECTYPE</th><th>Z</th><th>TARGETID</th><th>OBJTYPE</th><th>Z_ERR</th><th>SUBTYPE</th><th>TARGET_RA</th><th>TARGET_DEC</th><th>MORPHTYPE</th></tr></thead>\n",
       "<thead><tr><th>str7</th><th>float64</th><th>float64</th><th>str7</th><th>float64</th><th>str21</th><th>float64</th><th>float64</th><th>str7</th></tr></thead>\n",
       "<tr><td>GALAXY</td><td>0.12304444393698347</td><td>3.963298676893649e+16</td><td>TGT</td><td>4.1065983890874034e-05</td><td>0.0</td><td>251.15602592812982</td><td>35.15999350466772</td><td>SER</td></tr>\n",
       "<tr><td>GALAXY</td><td>0.29457611574915027</td><td>3.963298676893617e+16</td><td>TGT</td><td>1.5230988695018649e-05</td><td>0.0</td><td>251.13617942652738</td><td>35.298171294155715</td><td>REX</td></tr>\n",
       "<tr><td>GALAXY</td><td>0.26295948028332505</td><td>3.963298677312854e+16</td><td>TGT</td><td>1.8882726599351002e-05</td><td>0.0</td><td>251.29263317255828</td><td>35.2563912473969</td><td>REX</td></tr>\n",
       "<tr><td>GALAXY</td><td>1.1613819989817356</td><td>6.160937390723566e+17</td><td>SKY</td><td>9.201895922269369e-05</td><td>0.0</td><td>251.18910901219022</td><td>35.19275651875039</td><td>0.0</td></tr>\n",
       "<tr><td>GALAXY</td><td>0.26355166471566344</td><td>3.963298677312746e+16</td><td>TGT</td><td>3.503667072881993e-05</td><td>0.0</td><td>251.22081435317995</td><td>35.196753502348336</td><td>EXP</td></tr>\n",
       "<tr><td>GALAXY</td><td>0.08709363315046506</td><td>3.963298677312904e+16</td><td>TGT</td><td>3.865175488516558e-06</td><td>0.0</td><td>251.32575334761174</td><td>35.28205469932947</td><td>EXP</td></tr>\n",
       "<tr><td>GALAXY</td><td>0.26495553753651446</td><td>3.9632986768936136e+16</td><td>TGT</td><td>7.675386768239847e-05</td><td>0.0</td><td>251.13412200880515</td><td>35.23854486920474</td><td>SER</td></tr>\n",
       "<tr><td>STAR</td><td>-0.00017170741474576307</td><td>3.963298676474267e+16</td><td>TGT</td><td>6.297295578494421e-06</td><td>G</td><td>250.85477816221342</td><td>35.164102405409004</td><td>PSF</td></tr>\n",
       "<tr><td>GALAXY</td><td>0.1138600133189154</td><td>3.963298676893551e+16</td><td>TGT</td><td>7.161186384705142e-05</td><td>0.0</td><td>251.09286363782294</td><td>35.15489017306431</td><td>SER</td></tr>\n",
       "<tr><td>STAR</td><td>-0.0005461945376769534</td><td>3.9632981823850696e+16</td><td>TGT</td><td>5.1880335838730204e-06</td><td>F</td><td>251.12491082094607</td><td>35.1200088112371</td><td>PSF</td></tr>\n",
       "<tr><td>...</td><td>...</td><td>...</td><td>...</td><td>...</td><td>...</td><td>...</td><td>...</td><td>...</td></tr>\n",
       "<tr><td>GALAXY</td><td>0.2212399165843569</td><td>3.963316269901661e+16</td><td>TGT</td><td>8.301457577044025e-06</td><td>0.0</td><td>246.50943797520944</td><td>44.75338456663628</td><td>REX</td></tr>\n",
       "<tr><td>STAR</td><td>-9.118594506603361e-05</td><td>3.963316269901805e+16</td><td>TGT</td><td>2.1365218055386266e-06</td><td>K</td><td>246.6347625332186</td><td>44.7022875296301</td><td>PSF</td></tr>\n",
       "<tr><td>GALAXY</td><td>0.2406928045383059</td><td>3.963316270321214e+16</td><td>TGT</td><td>8.942850611440166e-05</td><td>0.0</td><td>246.9541944212965</td><td>44.85536037344885</td><td>SER</td></tr>\n",
       "<tr><td>STAR</td><td>-5.0497528573948114e-05</td><td>3.963316270321268e+16</td><td>TGT</td><td>2.555279111753032e-06</td><td>G</td><td>246.99145347284033</td><td>44.77404114908357</td><td>PSF</td></tr>\n",
       "<tr><td>GALAXY</td><td>0.05876737078181758</td><td>6.160939150024379e+17</td><td>SKY</td><td>0.00010763097309633737</td><td>0.0</td><td>246.508268340719</td><td>44.67478294297424</td><td>0.0</td></tr>\n",
       "<tr><td>STAR</td><td>-0.00016766109053056982</td><td>3.96331627032128e+16</td><td>TGT</td><td>2.289793152831945e-06</td><td>K</td><td>247.00062084300112</td><td>44.75838694706803</td><td>PSF</td></tr>\n",
       "<tr><td>STAR</td><td>-0.000565306703476277</td><td>3.963316269901513e+16</td><td>TGT</td><td>3.3750542696289306e-06</td><td>K</td><td>246.38823221487826</td><td>44.792118369453476</td><td>PSF</td></tr>\n",
       "<tr><td>GALAXY</td><td>0.22987027512306632</td><td>3.963316270321263e+16</td><td>TGT</td><td>2.825931027113024e-05</td><td>0.0</td><td>246.98792761546525</td><td>44.8398657830197</td><td>SER</td></tr>\n",
       "<tr><td>GALAXY</td><td>0.896879467915351</td><td>6.160939063663668e+17</td><td>SKY</td><td>0.00011688297086264493</td><td>0.0</td><td>246.44532942910342</td><td>44.36401580335939</td><td>0.0</td></tr>\n",
       "<tr><td>GALAXY</td><td>0.03061579106890277</td><td>1071086582104067.0</td><td>TGT</td><td>1.2416188729963067e-05</td><td>0.0</td><td>246.72025298315953</td><td>44.51243339068513</td><td>0.0</td></tr>\n",
       "</table></div>"
      ],
      "text/plain": [
       "<Table length=89878>\n",
       "SPECTYPE            Z            ...     TARGET_DEC     MORPHTYPE\n",
       "  str7           float64         ...      float64          str7  \n",
       "-------- ----------------------- ... ------------------ ---------\n",
       "  GALAXY     0.12304444393698347 ...  35.15999350466772       SER\n",
       "  GALAXY     0.29457611574915027 ... 35.298171294155715       REX\n",
       "  GALAXY     0.26295948028332505 ...   35.2563912473969       REX\n",
       "  GALAXY      1.1613819989817356 ...  35.19275651875039       0.0\n",
       "  GALAXY     0.26355166471566344 ... 35.196753502348336       EXP\n",
       "  GALAXY     0.08709363315046506 ...  35.28205469932947       EXP\n",
       "  GALAXY     0.26495553753651446 ...  35.23854486920474       SER\n",
       "    STAR -0.00017170741474576307 ... 35.164102405409004       PSF\n",
       "  GALAXY      0.1138600133189154 ...  35.15489017306431       SER\n",
       "    STAR  -0.0005461945376769534 ...   35.1200088112371       PSF\n",
       "     ...                     ... ...                ...       ...\n",
       "  GALAXY      0.2212399165843569 ...  44.75338456663628       REX\n",
       "    STAR  -9.118594506603361e-05 ...   44.7022875296301       PSF\n",
       "  GALAXY      0.2406928045383059 ...  44.85536037344885       SER\n",
       "    STAR -5.0497528573948114e-05 ...  44.77404114908357       PSF\n",
       "  GALAXY     0.05876737078181758 ...  44.67478294297424       0.0\n",
       "    STAR -0.00016766109053056982 ...  44.75838694706803       PSF\n",
       "    STAR   -0.000565306703476277 ... 44.792118369453476       PSF\n",
       "  GALAXY     0.22987027512306632 ...   44.8398657830197       SER\n",
       "  GALAXY       0.896879467915351 ...  44.36401580335939       0.0\n",
       "  GALAXY     0.03061579106890277 ...  44.51243339068513       0.0"
      ]
     },
     "execution_count": 7,
     "metadata": {},
     "output_type": "execute_result"
    }
   ],
   "source": [
    "Table.read(espc, hdu=1) "
   ]
  },
  {
   "cell_type": "code",
   "execution_count": 8,
   "id": "ffe861b6-febe-42cb-a1e8-31cb201ff177",
   "metadata": {},
   "outputs": [
    {
     "data": {
      "text/plain": [
       "array([[-2.0244894 , -1.2554272 ,  0.14935206, ...,  0.02944778,\n",
       "        -0.06924197, -0.07051332],\n",
       "       [-0.38240528, -0.843131  ,  0.1980905 , ..., -0.4721748 ,\n",
       "        -0.34204477, -0.10186274],\n",
       "       [-2.0898461 , -0.94940627, -0.8364523 , ..., -0.18528688,\n",
       "        -0.06044401, -0.05745404],\n",
       "       ...,\n",
       "       [-0.26975256,  0.02906103,  0.3725471 , ..., -0.29895002,\n",
       "        -0.22854656, -0.21899547],\n",
       "       [-0.25106573, -0.16347565,  0.00787027, ..., -0.3659452 ,\n",
       "        -0.3861323 , -0.20527843],\n",
       "       [-0.64394575,  0.2515735 , -0.23941648, ..., -0.29345423,\n",
       "        -0.3058742 , -0.33522555]], dtype=float32)"
      ]
     },
     "execution_count": 8,
     "metadata": {},
     "output_type": "execute_result"
    }
   ],
   "source": [
    "espc[2].data"
   ]
  },
  {
   "cell_type": "code",
   "execution_count": 9,
   "id": "8e79528a-0d3e-44b8-a1e3-fea33a1f2dc3",
   "metadata": {},
   "outputs": [],
   "source": [
    "espc.close()"
   ]
  },
  {
   "cell_type": "code",
   "execution_count": null,
   "id": "e9084f46-cc46-4f81-809f-82b946e72554",
   "metadata": {},
   "outputs": [],
   "source": []
  }
 ],
 "metadata": {
  "kernelspec": {
   "display_name": "Python 3 (ipykernel)",
   "language": "python",
   "name": "python3"
  },
  "language_info": {
   "codemirror_mode": {
    "name": "ipython",
    "version": 3
   },
   "file_extension": ".py",
   "mimetype": "text/x-python",
   "name": "python",
   "nbconvert_exporter": "python",
   "pygments_lexer": "ipython3",
   "version": "3.8.2"
  }
 },
 "nbformat": 4,
 "nbformat_minor": 5
}
